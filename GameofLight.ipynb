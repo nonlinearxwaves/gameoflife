{
 "cells": [
  {
   "cell_type": "markdown",
   "metadata": {},
   "source": [
    "# The enlightened game of life (simplified)"
   ]
  },
  {
   "cell_type": "markdown",
   "metadata": {},
   "source": [
    "Simulate the Conway's Game of Life coupled to 2D electromagnetic dynamics by FDTD\n",
    "\n",
    "See [ArXiv:0810.3179](https://arxiv.org/abs/0810.3179)\n",
    "\n",
    "Author nonlinearxwaves@gmail.com <br> \n",
    "Version 12 april 2020 <br>\n",
    "**W Italia !**"
   ]
  },
  {
   "cell_type": "code",
   "execution_count": 1,
   "metadata": {},
   "outputs": [],
   "source": [
    "import numpy as np\n",
    "import matplotlib.pyplot as plt\n",
    "from IPython.display import clear_output"
   ]
  },
  {
   "cell_type": "markdown",
   "metadata": {},
   "source": [
    "Scale for the EM field"
   ]
  },
  {
   "cell_type": "code",
   "execution_count": 2,
   "metadata": {},
   "outputs": [],
   "source": [
    "E0 = 10"
   ]
  },
  {
   "cell_type": "markdown",
   "metadata": {},
   "source": [
    "Grid size"
   ]
  },
  {
   "cell_type": "code",
   "execution_count": 3,
   "metadata": {},
   "outputs": [],
   "source": [
    "SizeX = 51"
   ]
  },
  {
   "cell_type": "code",
   "execution_count": 4,
   "metadata": {},
   "outputs": [],
   "source": [
    "SizeY = 41"
   ]
  },
  {
   "cell_type": "markdown",
   "metadata": {},
   "source": [
    "Vacuum impedence"
   ]
  },
  {
   "cell_type": "code",
   "execution_count": 5,
   "metadata": {},
   "outputs": [],
   "source": [
    "Z0 = 377.0"
   ]
  },
  {
   "cell_type": "markdown",
   "metadata": {},
   "source": [
    "Courant number (must be smaller than one)"
   ]
  },
  {
   "cell_type": "code",
   "execution_count": 6,
   "metadata": {},
   "outputs": [],
   "source": [
    "C = 0.5"
   ]
  },
  {
   "cell_type": "markdown",
   "metadata": {},
   "source": [
    "Update functions"
   ]
  },
  {
   "cell_type": "code",
   "execution_count": 7,
   "metadata": {},
   "outputs": [],
   "source": [
    "def updateH():\n",
    "    for m in range(SizeX):\n",
    "        for n in range(SizeY-1):\n",
    "            Hx[m,n]+=-(C/Z0)*(Ez[m, n+1]-Ez[m,n])\n",
    "    for m in range(SizeX-1):\n",
    "        for n in range(SizeY):\n",
    "            Hy[m,n]+=(C/Z0)*(Ez[m+1, n]-Ez[m,n])"
   ]
  },
  {
   "cell_type": "code",
   "execution_count": 8,
   "metadata": {},
   "outputs": [],
   "source": [
    "def updateE():\n",
    "    for m in range(1,SizeX-1):\n",
    "        for n in range(1, SizeY-1):\n",
    "            Ez[m,n]+=C*Z0*((Hy[m,n]-Hy[m-1,n])-(Hx[m,n]-Hx[m,n-1]))"
   ]
  },
  {
   "cell_type": "code",
   "execution_count": 9,
   "metadata": {},
   "outputs": [],
   "source": [
    "def updateCA(CA):\n",
    "    CA1=np.copy(CA)\n",
    "    def count_neigh(m,n):\n",
    "        # periodical BC\n",
    "        mm = np.mod(m-1,SizeX)\n",
    "        mq = np.mod(m+1,SizeX)\n",
    "        nm = np.mod(n-1,SizeY)\n",
    "        nq = np.mod(n+1,SizeY)        \n",
    "        return CA[mm,n]+CA[mq,n]+ \\\n",
    "                CA[m,nm]+CA[m,nq]+ \\\n",
    "                CA[mm,nm]+CA[mq,nq]+CA[mq,nm]+CA[mm,nq]\n",
    "\n",
    "    for m in range(SizeX):\n",
    "        for n in range(SizeY):\n",
    "            neigh = count_neigh(m,n)\n",
    "            if CA[m,n]==1:\n",
    "                if (neigh<2)or(neigh>3):\n",
    "                    CA1[m,n]=0\n",
    "            else:\n",
    "                if (neigh==3): \n",
    "                    CA1[m,n]=1                    \n",
    "            # Here the coupling with the EM field (if enough energy density survive)       \n",
    "            if np.square(Ez[m,n])>1.0:\n",
    "                CA1[m,n]=1\n",
    "            \n",
    "    return CA1"
   ]
  },
  {
   "cell_type": "markdown",
   "metadata": {},
   "source": [
    "Main loop with plotting <br>\n",
    "(try running varying `E0`, say 1, 20, 100)"
   ]
  },
  {
   "cell_type": "code",
   "execution_count": 11,
   "metadata": {},
   "outputs": [
    {
     "data": {
      "image/png": "[encoded data removed]",
      "text/plain": [
       "<Figure size 648x648 with 2 Axes>"
      ]
     },
     "metadata": {
      "needs_background": "light"
     },
     "output_type": "display_data"
    }
   ],
   "source": [
    "E0 = 15\n",
    "MaxT=50\n",
    "Hx = np.zeros((SizeX, SizeY-1), dtype=np.float32)\n",
    "Hy = np.zeros((SizeX-1, SizeY), dtype=np.float32)\n",
    "Ez = np.zeros((SizeX, SizeY), dtype=np.float32)\n",
    "CA = np.random.randint(2,size=(SizeX,SizeY))\n",
    "for it in range(MaxT):\n",
    "    CA=updateCA(CA)\n",
    "    updateH()\n",
    "    updateE()\n",
    "    # add a source current \n",
    "    Ez[25,20]+=E0*np.sin(0.2*it)*np.exp(-0.0*it)\n",
    "    # outputs\n",
    "    clear_output(wait=True)\n",
    "    plt.figure(figsize=(9,9))\n",
    "    plt.subplot(1,2,1)\n",
    "    plt.imshow(Ez, cmap='jet', vmin=-0.1*E0, vmax=0.1*E0,\n",
    "           interpolation='nearest', origin='lower')\n",
    "    plt.axis(\"off\")\n",
    "    plt.subplot(1,2,2)\n",
    "    plt.imshow(CA, cmap='hot',\n",
    "           interpolation='nearest', origin='lower')\n",
    "    plt.title('Step '+ repr(it+1) + ' of ' +repr(MaxT))\n",
    "    plt.axis(\"off\")\n",
    "    plt.show()   \n"
   ]
  },
  {
   "cell_type": "code",
   "execution_count": 12,
   "metadata": {},
   "outputs": [
    {
     "data": {
      "text/plain": [
       "<Figure size 432x288 with 0 Axes>"
      ]
     },
     "metadata": {},
     "output_type": "display_data"
    }
   ],
   "source": [
    "plt.savefig(\"EGOL.png\")"
   ]
  },
  {
   "cell_type": "code",
   "execution_count": null,
   "metadata": {},
   "outputs": [],
   "source": []
  }
 ],
 "metadata": {
  "kernelspec": {
   "display_name": "Python 3",
   "language": "python",
   "name": "python3"
  },
  "language_info": {
   "codemirror_mode": {
    "name": "ipython",
    "version": 3
   },
   "file_extension": ".py",
   "mimetype": "text/x-python",
   "name": "python",
   "nbconvert_exporter": "python",
   "pygments_lexer": "ipython3",
   "version": "3.7.7"
  }
 },
 "nbformat": 4,
 "nbformat_minor": 4
}
