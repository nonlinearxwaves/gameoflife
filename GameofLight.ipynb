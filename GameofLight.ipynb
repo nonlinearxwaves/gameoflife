{
 "cells": [
  {
   "cell_type": "markdown",
   "metadata": {},
   "source": [
    "# The enlightened game of life (simplified)"
   ]
  },
  {
   "cell_type": "markdown",
   "metadata": {},
   "source": [
    "Simulate the Conway's Game of Life coupled to 2D electromagnetic dynamics by FDTD\n",
    "\n",
    "See [ArXiv:0810.3179](https://arxiv.org/abs/0810.3179)\n",
    "\n",
    "Author nonlinearxwaves@gmail.com <br> \n",
    "Version 12 april 2020 <br>\n",
    "**W Italia !**"
   ]
  },
  {
   "cell_type": "code",
   "execution_count": 26,
   "metadata": {},
   "outputs": [],
   "source": [
    "import numpy as np\n",
    "import matplotlib.pyplot as plt\n",
    "from IPython.display import clear_output"
   ]
  },
  {
   "cell_type": "markdown",
   "metadata": {},
   "source": [
    "Scale for the EM field"
   ]
  },
  {
   "cell_type": "code",
   "execution_count": 27,
   "metadata": {},
   "outputs": [],
   "source": [
    "E0 = 10"
   ]
  },
  {
   "cell_type": "markdown",
   "metadata": {},
   "source": [
    "Grid size"
   ]
  },
  {
   "cell_type": "code",
   "execution_count": 28,
   "metadata": {},
   "outputs": [],
   "source": [
    "SizeX = 51"
   ]
  },
  {
   "cell_type": "code",
   "execution_count": 29,
   "metadata": {},
   "outputs": [],
   "source": [
    "SizeY = 41"
   ]
  },
  {
   "cell_type": "markdown",
   "metadata": {},
   "source": [
    "Vacuum impedence"
   ]
  },
  {
   "cell_type": "code",
   "execution_count": 31,
   "metadata": {},
   "outputs": [],
   "source": [
    "Z0 = 377.0"
   ]
  },
  {
   "cell_type": "markdown",
   "metadata": {},
   "source": [
    "Courant number (must be smaller than one)"
   ]
  },
  {
   "cell_type": "code",
   "execution_count": 34,
   "metadata": {},
   "outputs": [],
   "source": [
    "C = 0.5"
   ]
  },
  {
   "cell_type": "markdown",
   "metadata": {},
   "source": [
    "Update functions"
   ]
  },
  {
   "cell_type": "code",
   "execution_count": 35,
   "metadata": {},
   "outputs": [],
   "source": [
    "def updateH():\n",
    "    for m in range(SizeX):\n",
    "        for n in range(SizeY-1):\n",
    "            Hx[m,n]+=-(C/Z0)*(Ez[m, n+1]-Ez[m,n])\n",
    "    for m in range(SizeX-1):\n",
    "        for n in range(SizeY):\n",
    "            Hy[m,n]+=(C/Z0)*(Ez[m+1, n]-Ez[m,n])"
   ]
  },
  {
   "cell_type": "code",
   "execution_count": 36,
   "metadata": {},
   "outputs": [],
   "source": [
    "def updateE():\n",
    "    for m in range(1,SizeX-1):\n",
    "        for n in range(1, SizeY-1):\n",
    "            Ez[m,n]+=C*Z0*((Hy[m,n]-Hy[m-1,n])-(Hx[m,n]-Hx[m,n-1]))"
   ]
  },
  {
   "cell_type": "code",
   "execution_count": 37,
   "metadata": {},
   "outputs": [],
   "source": [
    "def updateCA(CA):\n",
    "    CA1=np.copy(CA)\n",
    "    def count_neigh(m,n):\n",
    "        # periodical BC\n",
    "        mm = np.mod(m-1,SizeX)\n",
    "        mq = np.mod(m+1,SizeX)\n",
    "        nm = np.mod(n-1,SizeY)\n",
    "        nq = np.mod(n+1,SizeY)        \n",
    "        return CA[mm,n]+CA[mq,n]+ \\\n",
    "                CA[m,nm]+CA[m,nq]+ \\\n",
    "                CA[mm,nm]+CA[mq,nq]+CA[mq,nm]+CA[mm,nq]\n",
    "\n",
    "    for m in range(SizeX):\n",
    "        for n in range(SizeY):\n",
    "            neigh = count_neigh(m,n)\n",
    "            if CA[m,n]==1:\n",
    "                if (neigh<2)or(neigh>3):\n",
    "                    CA1[m,n]=0\n",
    "            else:\n",
    "                if (neigh==3): \n",
    "                    CA1[m,n]=1                    \n",
    "            # Here the coupling with the EM field (if enough energy survive)       \n",
    "            if np.square(Ez[m,n])>1.0:\n",
    "                CA1[m,n]=1\n",
    "            \n",
    "    return CA1"
   ]
  },
  {
   "cell_type": "markdown",
   "metadata": {},
   "source": [
    "Main loop with plotting <br>\n",
    "(try running varying `E0`, say 1, 20, 100)"
   ]
  },
  {
   "cell_type": "code",
   "execution_count": 45,
   "metadata": {},
   "outputs": [
    {
     "data": {
      "image/png": "[encoded data removed]",
      "text/plain": [
       "<Figure size 648x648 with 2 Axes>"
      ]
     },
     "metadata": {
      "needs_background": "light"
     },
     "output_type": "display_data"
    },
    {
     "ename": "KeyboardInterrupt",
     "evalue": "",
     "output_type": "error",
     "traceback": [
      "\u001b[1;31m---------------------------------------------------------------------------\u001b[0m",
      "\u001b[1;31mKeyboardInterrupt\u001b[0m                         Traceback (most recent call last)",
      "\u001b[1;32m<ipython-input-45-07108647d743>\u001b[0m in \u001b[0;36m<module>\u001b[1;34m\u001b[0m\n\u001b[0;32m      8\u001b[0m     \u001b[0mCA\u001b[0m\u001b[1;33m=\u001b[0m\u001b[0mupdateCA\u001b[0m\u001b[1;33m(\u001b[0m\u001b[0mCA\u001b[0m\u001b[1;33m)\u001b[0m\u001b[1;33m\u001b[0m\u001b[1;33m\u001b[0m\u001b[0m\n\u001b[0;32m      9\u001b[0m     \u001b[0mupdateH\u001b[0m\u001b[1;33m(\u001b[0m\u001b[1;33m)\u001b[0m\u001b[1;33m\u001b[0m\u001b[1;33m\u001b[0m\u001b[0m\n\u001b[1;32m---> 10\u001b[1;33m     \u001b[0mupdateE\u001b[0m\u001b[1;33m(\u001b[0m\u001b[1;33m)\u001b[0m\u001b[1;33m\u001b[0m\u001b[1;33m\u001b[0m\u001b[0m\n\u001b[0m\u001b[0;32m     11\u001b[0m     \u001b[1;31m# add a source current\u001b[0m\u001b[1;33m\u001b[0m\u001b[1;33m\u001b[0m\u001b[1;33m\u001b[0m\u001b[0m\n\u001b[0;32m     12\u001b[0m     \u001b[0mEz\u001b[0m\u001b[1;33m[\u001b[0m\u001b[1;36m25\u001b[0m\u001b[1;33m,\u001b[0m\u001b[1;36m20\u001b[0m\u001b[1;33m]\u001b[0m\u001b[1;33m+=\u001b[0m\u001b[0mE0\u001b[0m\u001b[1;33m*\u001b[0m\u001b[0mnp\u001b[0m\u001b[1;33m.\u001b[0m\u001b[0msin\u001b[0m\u001b[1;33m(\u001b[0m\u001b[1;36m0.1\u001b[0m\u001b[1;33m*\u001b[0m\u001b[0mit\u001b[0m\u001b[1;33m)\u001b[0m\u001b[1;33m*\u001b[0m\u001b[0mnp\u001b[0m\u001b[1;33m.\u001b[0m\u001b[0mexp\u001b[0m\u001b[1;33m(\u001b[0m\u001b[1;33m-\u001b[0m\u001b[1;36m0.0\u001b[0m\u001b[1;33m*\u001b[0m\u001b[0mit\u001b[0m\u001b[1;33m)\u001b[0m\u001b[1;33m\u001b[0m\u001b[1;33m\u001b[0m\u001b[0m\n",
      "\u001b[1;32m<ipython-input-36-6047682e607d>\u001b[0m in \u001b[0;36mupdateE\u001b[1;34m()\u001b[0m\n\u001b[0;32m      2\u001b[0m     \u001b[1;32mfor\u001b[0m \u001b[0mm\u001b[0m \u001b[1;32min\u001b[0m \u001b[0mrange\u001b[0m\u001b[1;33m(\u001b[0m\u001b[1;36m1\u001b[0m\u001b[1;33m,\u001b[0m\u001b[0mSizeX\u001b[0m\u001b[1;33m-\u001b[0m\u001b[1;36m1\u001b[0m\u001b[1;33m)\u001b[0m\u001b[1;33m:\u001b[0m\u001b[1;33m\u001b[0m\u001b[1;33m\u001b[0m\u001b[0m\n\u001b[0;32m      3\u001b[0m         \u001b[1;32mfor\u001b[0m \u001b[0mn\u001b[0m \u001b[1;32min\u001b[0m \u001b[0mrange\u001b[0m\u001b[1;33m(\u001b[0m\u001b[1;36m1\u001b[0m\u001b[1;33m,\u001b[0m \u001b[0mSizeY\u001b[0m\u001b[1;33m-\u001b[0m\u001b[1;36m1\u001b[0m\u001b[1;33m)\u001b[0m\u001b[1;33m:\u001b[0m\u001b[1;33m\u001b[0m\u001b[1;33m\u001b[0m\u001b[0m\n\u001b[1;32m----> 4\u001b[1;33m             \u001b[0mEz\u001b[0m\u001b[1;33m[\u001b[0m\u001b[0mm\u001b[0m\u001b[1;33m,\u001b[0m\u001b[0mn\u001b[0m\u001b[1;33m]\u001b[0m\u001b[1;33m+=\u001b[0m\u001b[0mC\u001b[0m\u001b[1;33m*\u001b[0m\u001b[0mZ0\u001b[0m\u001b[1;33m*\u001b[0m\u001b[1;33m(\u001b[0m\u001b[1;33m(\u001b[0m\u001b[0mHy\u001b[0m\u001b[1;33m[\u001b[0m\u001b[0mm\u001b[0m\u001b[1;33m,\u001b[0m\u001b[0mn\u001b[0m\u001b[1;33m]\u001b[0m\u001b[1;33m-\u001b[0m\u001b[0mHy\u001b[0m\u001b[1;33m[\u001b[0m\u001b[0mm\u001b[0m\u001b[1;33m-\u001b[0m\u001b[1;36m1\u001b[0m\u001b[1;33m,\u001b[0m\u001b[0mn\u001b[0m\u001b[1;33m]\u001b[0m\u001b[1;33m)\u001b[0m\u001b[1;33m-\u001b[0m\u001b[1;33m(\u001b[0m\u001b[0mHx\u001b[0m\u001b[1;33m[\u001b[0m\u001b[0mm\u001b[0m\u001b[1;33m,\u001b[0m\u001b[0mn\u001b[0m\u001b[1;33m]\u001b[0m\u001b[1;33m-\u001b[0m\u001b[0mHx\u001b[0m\u001b[1;33m[\u001b[0m\u001b[0mm\u001b[0m\u001b[1;33m,\u001b[0m\u001b[0mn\u001b[0m\u001b[1;33m-\u001b[0m\u001b[1;36m1\u001b[0m\u001b[1;33m]\u001b[0m\u001b[1;33m)\u001b[0m\u001b[1;33m)\u001b[0m\u001b[1;33m\u001b[0m\u001b[1;33m\u001b[0m\u001b[0m\n\u001b[0m",
      "\u001b[1;31mKeyboardInterrupt\u001b[0m: "
     ]
    }
   ],
   "source": [
    "E0 = 100\n",
    "MaxT=100\n",
    "Hx = np.zeros((SizeX, SizeY-1), dtype=np.float32)\n",
    "Hy = np.zeros((SizeX-1, SizeY), dtype=np.float32)\n",
    "Ez = np.zeros((SizeX, SizeY), dtype=np.float32)\n",
    "CA = np.random.randint(2,size=(SizeX,SizeY))\n",
    "for it in range(MaxT):\n",
    "    CA=updateCA(CA)\n",
    "    updateH()\n",
    "    updateE()\n",
    "    # add a source current \n",
    "    Ez[25,20]+=E0*np.sin(0.1*it)*np.exp(-0.0*it)\n",
    "    # outputs\n",
    "    clear_output(wait=True)\n",
    "    plt.figure(figsize=(9,9))\n",
    "    plt.subplot(1,2,1)\n",
    "    plt.imshow(Ez, cmap='hsv',\n",
    "           interpolation='nearest', origin='lower')\n",
    "    plt.subplot(1,2,2)\n",
    "    plt.imshow(CA, cmap='hot',\n",
    "           interpolation='nearest', origin='lower')\n",
    "    plt.title('Step '+ repr(it) + ' of ' +repr(MaxT))\n",
    "    plt.show()   \n",
    " "
   ]
  }
 ],
 "metadata": {
  "kernelspec": {
   "display_name": "Python 3",
   "language": "python",
   "name": "python3"
  },
  "language_info": {
   "codemirror_mode": {
    "name": "ipython",
    "version": 3
   },
   "file_extension": ".py",
   "mimetype": "text/x-python",
   "name": "python",
   "nbconvert_exporter": "python",
   "pygments_lexer": "ipython3",
   "version": "3.6.10"
  }
 },
 "nbformat": 4,
 "nbformat_minor": 4
}
